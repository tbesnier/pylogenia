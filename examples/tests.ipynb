{
 "cells": [
  {
   "cell_type": "code",
   "execution_count": 107,
   "id": "3df0cca5",
   "metadata": {},
   "outputs": [],
   "source": [
    "import sys\n",
    "import torch\n",
    "import open3d as o3d\n",
    "import os\n",
    "import time\n",
    "import numpy as np\n",
    "import pandas as pd\n",
    "import re\n",
    "\n",
    "sys.path.insert(0,\"../\")\n",
    "\n",
    "from utils import lddmm_utils, mesh_processing, viz"
   ]
  },
  {
   "cell_type": "code",
   "execution_count": 108,
   "id": "657b9a83",
   "metadata": {},
   "outputs": [],
   "source": [
    "# torch type and device\n",
    "use_cuda = torch.cuda.is_available()\n",
    "torchdeviceId = torch.device(\"cuda:0\") if use_cuda else \"cpu\"\n",
    "torchdtype = torch.float32\n",
    "\n",
    "# PyKeOps counterpart\n",
    "KeOpsdeviceId = torchdeviceId.index  # id of Gpu device (in case Gpu is  used)\n",
    "KeOpsdtype = torchdtype.__str__().split(\".\")[1]  # 'float32'"
   ]
  },
  {
   "cell_type": "code",
   "execution_count": 109,
   "id": "bb95d751",
   "metadata": {},
   "outputs": [
    {
     "data": {
      "text/plain": [
       "['../data/preprocessed/Canislupus_Oulu_preprocessed.ply',\n",
       " '../data/preprocessed/Canislupus_Bergen_preprocessed.ply',\n",
       " '../data/preprocessed/NHMO_preprocessed.ply',\n",
       " '../data/preprocessed/Canislupus_MZH_preprocessed.ply',\n",
       " '../data/preprocessed/Labrador_preprocessed.ply',\n",
       " '../data/preprocessed/NMB_preprocessed.ply',\n",
       " '../data/preprocessed/Canislupus_Lund_preprocessed.ply',\n",
       " '../data/preprocessed/bulldog_preprocessed.ply']"
      ]
     },
     "execution_count": 109,
     "metadata": {},
     "output_type": "execute_result"
    }
   ],
   "source": [
    "source_dir = \"../data/preprocessed/\"\n",
    "data_paths = [source_dir + file for file in os.listdir(source_dir) if \"ipynb\" not in file]\n",
    "data_paths"
   ]
  },
  {
   "cell_type": "code",
   "execution_count": 122,
   "id": "7c0dbd3f",
   "metadata": {},
   "outputs": [],
   "source": [
    "names = [re.search('../data/preprocessed/(.*)_preprocessed.ply', path).group(1) for path in data_paths]"
   ]
  },
  {
   "cell_type": "code",
   "execution_count": 123,
   "id": "7e61a416",
   "metadata": {},
   "outputs": [
    {
     "data": {
      "text/plain": [
       "['Canislupus_Oulu',\n",
       " 'Canislupus_Bergen',\n",
       " 'NHMO',\n",
       " 'Canislupus_MZH',\n",
       " 'Labrador',\n",
       " 'NMB',\n",
       " 'Canislupus_Lund',\n",
       " 'bulldog']"
      ]
     },
     "execution_count": 123,
     "metadata": {},
     "output_type": "execute_result"
    }
   ],
   "source": [
    "names"
   ]
  },
  {
   "cell_type": "code",
   "execution_count": 112,
   "id": "f954404a",
   "metadata": {},
   "outputs": [],
   "source": [
    "def get_data(file):\n",
    "    mesh = o3d.io.read_triangle_mesh(file)\n",
    "    V, F, Rho = mesh_processing.getDataFromMesh(mesh)\n",
    "    return(V,F,Rho)\n",
    "\n",
    "list_data = []\n",
    "for file in data_paths:\n",
    "    list_data.append(get_data(file)[:2])"
   ]
  },
  {
   "cell_type": "code",
   "execution_count": null,
   "id": "3f6f6c4c",
   "metadata": {},
   "outputs": [],
   "source": []
  },
  {
   "cell_type": "code",
   "execution_count": 113,
   "id": "02cdabfe",
   "metadata": {},
   "outputs": [],
   "source": [
    "file_bulldog = \"../data/preprocessed/bulldog_preprocessed.ply\"\n",
    "file_bergen = \"../data/preprocessed/Canislupus_Bergen_preprocessed.ply\"\n",
    "file_labrador = \"../data/preprocessed/Labrador_preprocessed.ply\"\n",
    "file_lund = \"../data/preprocessed/Canislupus_Lund_preprocessed.ply\"\n",
    "file_MZH = \"../data/preprocessed/Canislupus_MZH_preprocessed.ply\"\n",
    "file_oulu = \"../data/preprocessed/Canislupus_Oulu_preprocessed.ply\"\n",
    "file_nhmo = \"../data/preprocessed/NHMO_preprocessed.ply\"\n",
    "file_nmb = \"../data/preprocessed/NMB_preprocessed.ply\"\n",
    "\n",
    "mesh_bulldog = o3d.io.read_triangle_mesh(file_bulldog)\n",
    "V1, F1, Rho1 = mesh_processing.getDataFromMesh(mesh_bulldog)\n",
    "\n",
    "mesh_bergen = o3d.io.read_triangle_mesh(file_bergen)\n",
    "V2, F2, Rho2 = mesh_processing.getDataFromMesh(mesh_bergen)\n",
    "\n",
    "mesh_labrador = o3d.io.read_triangle_mesh(file_labrador)\n",
    "V3, F3, Rho3 = mesh_processing.getDataFromMesh(mesh_labrador)\n",
    "\n",
    "mesh_lund = o3d.io.read_triangle_mesh(file_lund)\n",
    "V4, F4, Rho4 = mesh_processing.getDataFromMesh(mesh_lund)\n",
    "\n",
    "mesh_MZH = o3d.io.read_triangle_mesh(file_MZH)\n",
    "V5, F5, Rho5 = mesh_processing.getDataFromMesh(mesh_MZH)\n",
    "\n",
    "mesh_oulu = o3d.io.read_triangle_mesh(file_oulu)\n",
    "V6, F6, Rho6 = mesh_processing.getDataFromMesh(mesh_oulu)\n",
    "\n",
    "mesh_nhmo = o3d.io.read_triangle_mesh(file_nhmo)\n",
    "V7, F7, Rho7 = mesh_processing.getDataFromMesh(mesh_nhmo)\n",
    "\n",
    "mesh_nmb = o3d.io.read_triangle_mesh(file_nmb)\n",
    "V8, F8, Rho8 = mesh_processing.getDataFromMesh(mesh_nmb)"
   ]
  },
  {
   "cell_type": "code",
   "execution_count": 114,
   "id": "2864a578",
   "metadata": {},
   "outputs": [],
   "source": [
    "#L = [[V1,F1],\n",
    " #    [V2,F2],\n",
    " #    [V3,F3],\n",
    " #    [V4,F4],\n",
    " #    [V5,F5],\n",
    " #    [V6,F6],\n",
    " #    [V7,F7],\n",
    " #    [V8,F8]]"
   ]
  },
  {
   "cell_type": "code",
   "execution_count": null,
   "id": "c0334dd4",
   "metadata": {},
   "outputs": [],
   "source": []
  },
  {
   "cell_type": "code",
   "execution_count": 115,
   "id": "19b11179",
   "metadata": {},
   "outputs": [],
   "source": [
    "#L = list_data"
   ]
  },
  {
   "cell_type": "code",
   "execution_count": 116,
   "id": "5e019d07",
   "metadata": {},
   "outputs": [
    {
     "name": "stdout",
     "output_type": "stream",
     "text": [
      "LDDM loss:  1 - 0 17011\n",
      "LDDM loss:  2 - 0 87070\n",
      "LDDM loss:  2 - 1 80237\n",
      "LDDM loss:  3 - 0 45493\n",
      "LDDM loss:  3 - 1 38105\n",
      "LDDM loss:  3 - 2 94757\n",
      "LDDM loss:  4 - 0 37021\n",
      "LDDM loss:  4 - 1 32654\n",
      "LDDM loss:  4 - 2 59591\n",
      "LDDM loss:  4 - 3 48348\n",
      "LDDM loss:  5 - 0 70166\n",
      "LDDM loss:  5 - 1 64707\n",
      "LDDM loss:  5 - 2 37717\n",
      "LDDM loss:  5 - 3 86028\n",
      "LDDM loss:  5 - 4 46186\n",
      "LDDM loss:  6 - 0 53866\n",
      "LDDM loss:  6 - 1 49506\n",
      "LDDM loss:  6 - 2 117928\n",
      "LDDM loss:  6 - 3 37199\n",
      "LDDM loss:  6 - 4 59426\n",
      "LDDM loss:  6 - 5 106478\n",
      "LDDM loss:  7 - 0 85109\n",
      "LDDM loss:  7 - 1 82469\n",
      "LDDM loss:  7 - 2 85785\n",
      "LDDM loss:  7 - 3 98986\n",
      "LDDM loss:  7 - 4 73616\n",
      "LDDM loss:  7 - 5 57528\n",
      "LDDM loss:  7 - 6 125064\n"
     ]
    }
   ],
   "source": [
    "tab = []\n",
    "for ind_s, ls in enumerate(list_data):\n",
    "    C=[]\n",
    "    padd = [0 for i in range(len(list_data) - ind_s)]\n",
    "    for ind_t, lt in enumerate(list_data):\n",
    "        if ind_s>ind_t:\n",
    "        \n",
    "            q0 = torch.from_numpy(ls[0]).clone().detach().to(dtype=torchdtype, device=torchdeviceId).requires_grad_(True)\n",
    "            VT = torch.from_numpy(lt[0]).clone().detach().to(dtype=torchdtype, device=torchdeviceId)\n",
    "            FS = torch.from_numpy(ls[1]).clone().detach().to(dtype=torch.long, device=torchdeviceId)\n",
    "            FT = torch.from_numpy(lt[1]).clone().detach().to(dtype=torch.long, device=torchdeviceId)\n",
    "            sigma = torch.tensor([10], dtype=torchdtype, device=torchdeviceId)\n",
    "\n",
    "            x, y, z = (\n",
    "                q0[:, 0].detach().cpu().numpy(),\n",
    "                q0[:, 1].detach().cpu().numpy(),\n",
    "                q0[:, 2].detach().cpu().numpy(),\n",
    "            )\n",
    "            i, j, k = (\n",
    "                FS[:, 0].detach().cpu().numpy(),\n",
    "                FS[:, 1].detach().cpu().numpy(),\n",
    "                FS[:, 2].detach().cpu().numpy(),\n",
    "            )\n",
    "\n",
    "            xt, yt, zt = (\n",
    "                VT[:, 0].detach().cpu().numpy(),\n",
    "                VT[:, 1].detach().cpu().numpy(),\n",
    "                VT[:, 2].detach().cpu().numpy(),\n",
    "            )\n",
    "            it, jt, kt = (\n",
    "                FT[:, 0].detach().cpu().numpy(),\n",
    "                FT[:, 1].detach().cpu().numpy(),\n",
    "                FT[:, 2].detach().cpu().numpy(),\n",
    "            )\n",
    "\n",
    "#####################################################################\n",
    "# Define data attachment and LDDMM functional\n",
    "\n",
    "            dataloss = lddmm_utils.lossVarifoldSurf(FS, VT, FT, lddmm_utils.GaussLinKernel(sigma=sigma))\n",
    "            Kv = lddmm_utils.GaussKernel(sigma=sigma)\n",
    "            loss = lddmm_utils.LDDMMloss(Kv, dataloss)\n",
    "\n",
    "######################################################################\n",
    "# Perform optimization\n",
    "\n",
    "# initialize momentum vectors\n",
    "            p0 = torch.zeros(q0.shape, dtype=torchdtype, device=torchdeviceId, requires_grad=True)\n",
    "\n",
    "            optimizer = torch.optim.LBFGS([p0], max_eval=10, max_iter=10)\n",
    "            dist = int(loss(p0, q0).item()/1000)\n",
    "            print(\"LDDM loss: \",ind_s, \"-\",ind_t, dist)\n",
    "            C.append(dist)\n",
    "            #print(\"Hausdorff distance: \", ind_s, \"-\",ind_t, hausdorff_distance(ls[0].detach().cpu().numpy(),lt[0].detach().cpu().numpy()))\n",
    "    C = C + padd\n",
    "    \n",
    "    tab.append(C)"
   ]
  },
  {
   "cell_type": "code",
   "execution_count": null,
   "id": "aa65af87",
   "metadata": {},
   "outputs": [],
   "source": []
  },
  {
   "cell_type": "code",
   "execution_count": 124,
   "id": "8e5a3f69",
   "metadata": {},
   "outputs": [],
   "source": [
    "tab = np.array(tab)"
   ]
  },
  {
   "cell_type": "code",
   "execution_count": 125,
   "id": "1d48613b",
   "metadata": {},
   "outputs": [
    {
     "data": {
      "text/plain": [
       "array([[     0,      0,      0,      0,      0,      0,      0,      0],\n",
       "       [ 17011,      0,      0,      0,      0,      0,      0,      0],\n",
       "       [ 87070,  80237,      0,      0,      0,      0,      0,      0],\n",
       "       [ 45493,  38105,  94757,      0,      0,      0,      0,      0],\n",
       "       [ 37021,  32654,  59591,  48348,      0,      0,      0,      0],\n",
       "       [ 70166,  64707,  37717,  86028,  46186,      0,      0,      0],\n",
       "       [ 53866,  49506, 117928,  37199,  59426, 106478,      0,      0],\n",
       "       [ 85109,  82469,  85785,  98986,  73616,  57528, 125064,      0]])"
      ]
     },
     "execution_count": 125,
     "metadata": {},
     "output_type": "execute_result"
    }
   ],
   "source": [
    "tab"
   ]
  },
  {
   "cell_type": "code",
   "execution_count": 126,
   "id": "8712c4dc",
   "metadata": {},
   "outputs": [],
   "source": [
    "df = pd.DataFrame(tab, index=names,columns=names)"
   ]
  },
  {
   "cell_type": "code",
   "execution_count": 127,
   "id": "1d78699b",
   "metadata": {},
   "outputs": [
    {
     "data": {
      "text/html": [
       "<div>\n",
       "<style scoped>\n",
       "    .dataframe tbody tr th:only-of-type {\n",
       "        vertical-align: middle;\n",
       "    }\n",
       "\n",
       "    .dataframe tbody tr th {\n",
       "        vertical-align: top;\n",
       "    }\n",
       "\n",
       "    .dataframe thead th {\n",
       "        text-align: right;\n",
       "    }\n",
       "</style>\n",
       "<table border=\"1\" class=\"dataframe\">\n",
       "  <thead>\n",
       "    <tr style=\"text-align: right;\">\n",
       "      <th></th>\n",
       "      <th>Canislupus_Oulu</th>\n",
       "      <th>Canislupus_Bergen</th>\n",
       "      <th>NHMO</th>\n",
       "      <th>Canislupus_MZH</th>\n",
       "      <th>Labrador</th>\n",
       "      <th>NMB</th>\n",
       "      <th>Canislupus_Lund</th>\n",
       "      <th>bulldog</th>\n",
       "    </tr>\n",
       "  </thead>\n",
       "  <tbody>\n",
       "    <tr>\n",
       "      <th>Canislupus_Oulu</th>\n",
       "      <td>0</td>\n",
       "      <td>0</td>\n",
       "      <td>0</td>\n",
       "      <td>0</td>\n",
       "      <td>0</td>\n",
       "      <td>0</td>\n",
       "      <td>0</td>\n",
       "      <td>0</td>\n",
       "    </tr>\n",
       "    <tr>\n",
       "      <th>Canislupus_Bergen</th>\n",
       "      <td>17011</td>\n",
       "      <td>0</td>\n",
       "      <td>0</td>\n",
       "      <td>0</td>\n",
       "      <td>0</td>\n",
       "      <td>0</td>\n",
       "      <td>0</td>\n",
       "      <td>0</td>\n",
       "    </tr>\n",
       "    <tr>\n",
       "      <th>NHMO</th>\n",
       "      <td>87070</td>\n",
       "      <td>80237</td>\n",
       "      <td>0</td>\n",
       "      <td>0</td>\n",
       "      <td>0</td>\n",
       "      <td>0</td>\n",
       "      <td>0</td>\n",
       "      <td>0</td>\n",
       "    </tr>\n",
       "    <tr>\n",
       "      <th>Canislupus_MZH</th>\n",
       "      <td>45493</td>\n",
       "      <td>38105</td>\n",
       "      <td>94757</td>\n",
       "      <td>0</td>\n",
       "      <td>0</td>\n",
       "      <td>0</td>\n",
       "      <td>0</td>\n",
       "      <td>0</td>\n",
       "    </tr>\n",
       "    <tr>\n",
       "      <th>Labrador</th>\n",
       "      <td>37021</td>\n",
       "      <td>32654</td>\n",
       "      <td>59591</td>\n",
       "      <td>48348</td>\n",
       "      <td>0</td>\n",
       "      <td>0</td>\n",
       "      <td>0</td>\n",
       "      <td>0</td>\n",
       "    </tr>\n",
       "    <tr>\n",
       "      <th>NMB</th>\n",
       "      <td>70166</td>\n",
       "      <td>64707</td>\n",
       "      <td>37717</td>\n",
       "      <td>86028</td>\n",
       "      <td>46186</td>\n",
       "      <td>0</td>\n",
       "      <td>0</td>\n",
       "      <td>0</td>\n",
       "    </tr>\n",
       "    <tr>\n",
       "      <th>Canislupus_Lund</th>\n",
       "      <td>53866</td>\n",
       "      <td>49506</td>\n",
       "      <td>117928</td>\n",
       "      <td>37199</td>\n",
       "      <td>59426</td>\n",
       "      <td>106478</td>\n",
       "      <td>0</td>\n",
       "      <td>0</td>\n",
       "    </tr>\n",
       "    <tr>\n",
       "      <th>bulldog</th>\n",
       "      <td>85109</td>\n",
       "      <td>82469</td>\n",
       "      <td>85785</td>\n",
       "      <td>98986</td>\n",
       "      <td>73616</td>\n",
       "      <td>57528</td>\n",
       "      <td>125064</td>\n",
       "      <td>0</td>\n",
       "    </tr>\n",
       "  </tbody>\n",
       "</table>\n",
       "</div>"
      ],
      "text/plain": [
       "                   Canislupus_Oulu  Canislupus_Bergen    NHMO  Canislupus_MZH  \\\n",
       "Canislupus_Oulu                  0                  0       0               0   \n",
       "Canislupus_Bergen            17011                  0       0               0   \n",
       "NHMO                         87070              80237       0               0   \n",
       "Canislupus_MZH               45493              38105   94757               0   \n",
       "Labrador                     37021              32654   59591           48348   \n",
       "NMB                          70166              64707   37717           86028   \n",
       "Canislupus_Lund              53866              49506  117928           37199   \n",
       "bulldog                      85109              82469   85785           98986   \n",
       "\n",
       "                   Labrador     NMB  Canislupus_Lund  bulldog  \n",
       "Canislupus_Oulu           0       0                0        0  \n",
       "Canislupus_Bergen         0       0                0        0  \n",
       "NHMO                      0       0                0        0  \n",
       "Canislupus_MZH            0       0                0        0  \n",
       "Labrador                  0       0                0        0  \n",
       "NMB                   46186       0                0        0  \n",
       "Canislupus_Lund       59426  106478                0        0  \n",
       "bulldog               73616   57528           125064        0  "
      ]
     },
     "execution_count": 127,
     "metadata": {},
     "output_type": "execute_result"
    }
   ],
   "source": [
    "df"
   ]
  },
  {
   "cell_type": "code",
   "execution_count": 129,
   "id": "500e9dfd",
   "metadata": {},
   "outputs": [],
   "source": [
    "df.to_csv(\"doc/results/distance_varifold.csv\")"
   ]
  },
  {
   "cell_type": "code",
   "execution_count": null,
   "id": "b52b6e7c",
   "metadata": {},
   "outputs": [],
   "source": []
  }
 ],
 "metadata": {
  "kernelspec": {
   "display_name": "Python 3 (ipykernel)",
   "language": "python",
   "name": "python3"
  },
  "language_info": {
   "codemirror_mode": {
    "name": "ipython",
    "version": 3
   },
   "file_extension": ".py",
   "mimetype": "text/x-python",
   "name": "python",
   "nbconvert_exporter": "python",
   "pygments_lexer": "ipython3",
   "version": "3.8.10"
  }
 },
 "nbformat": 4,
 "nbformat_minor": 5
}
