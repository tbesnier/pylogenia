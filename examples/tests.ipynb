{
 "cells": [
  {
   "cell_type": "code",
   "execution_count": 1,
   "id": "3df0cca5",
   "metadata": {},
   "outputs": [
    {
     "name": "stdout",
     "output_type": "stream",
     "text": [
      "Jupyter environment detected. Enabling Open3D WebVisualizer.\n",
      "[Open3D INFO] WebRTC GUI backend enabled.\n",
      "[Open3D INFO] WebRTCWindowSystem: HTTP handshake server disabled.\n"
     ]
    }
   ],
   "source": [
    "import sys\n",
    "import torch\n",
    "import open3d as o3d\n",
    "import os\n",
    "import time\n",
    "import numpy as np\n",
    "import pandas as pd\n",
    "import re\n",
    "\n",
    "sys.path.insert(0,\"../\")\n",
    "\n",
    "from utils import lddmm_utils, mesh_processing, viz"
   ]
  },
  {
   "cell_type": "code",
   "execution_count": 2,
   "id": "657b9a83",
   "metadata": {},
   "outputs": [],
   "source": [
    "# torch type and device\n",
    "use_cuda = torch.cuda.is_available()\n",
    "torchdeviceId = torch.device(\"cuda:0\") if use_cuda else \"cpu\"\n",
    "torchdtype = torch.float32\n",
    "\n",
    "# PyKeOps counterpart\n",
    "KeOpsdeviceId = torchdeviceId.index  # id of Gpu device (in case Gpu is  used)\n",
    "KeOpsdtype = torchdtype.__str__().split(\".\")[1]  # 'float32'"
   ]
  },
  {
   "cell_type": "code",
   "execution_count": 3,
   "id": "bb95d751",
   "metadata": {},
   "outputs": [
    {
     "data": {
      "text/plain": [
       "['../data/preprocessed/Canislupus_Oulu_preprocessed.ply',\n",
       " '../data/preprocessed/Canislupus_Bergen_preprocessed.ply',\n",
       " '../data/preprocessed/NHMO_preprocessed.ply',\n",
       " '../data/preprocessed/Canislupus_MZH_preprocessed.ply',\n",
       " '../data/preprocessed/Labrador_preprocessed.ply',\n",
       " '../data/preprocessed/NMB_preprocessed.ply',\n",
       " '../data/preprocessed/Canislupus_Lund_preprocessed.ply',\n",
       " '../data/preprocessed/bulldog_preprocessed.ply']"
      ]
     },
     "execution_count": 3,
     "metadata": {},
     "output_type": "execute_result"
    }
   ],
   "source": [
    "source_dir = \"../data/preprocessed/\"\n",
    "data_paths = [source_dir + file for file in os.listdir(source_dir) if \"ipynb\" not in file]\n",
    "data_paths"
   ]
  },
  {
   "cell_type": "code",
   "execution_count": 4,
   "id": "7c0dbd3f",
   "metadata": {},
   "outputs": [],
   "source": [
    "names = [re.search('../data/preprocessed/(.*)_preprocessed.ply', path).group(1) for path in data_paths]"
   ]
  },
  {
   "cell_type": "code",
   "execution_count": 5,
   "id": "7e61a416",
   "metadata": {},
   "outputs": [
    {
     "data": {
      "text/plain": [
       "['Canislupus_Oulu',\n",
       " 'Canislupus_Bergen',\n",
       " 'NHMO',\n",
       " 'Canislupus_MZH',\n",
       " 'Labrador',\n",
       " 'NMB',\n",
       " 'Canislupus_Lund',\n",
       " 'bulldog']"
      ]
     },
     "execution_count": 5,
     "metadata": {},
     "output_type": "execute_result"
    }
   ],
   "source": [
    "names"
   ]
  },
  {
   "cell_type": "code",
   "execution_count": 6,
   "id": "f954404a",
   "metadata": {},
   "outputs": [],
   "source": [
    "def get_data(file):\n",
    "    mesh = o3d.io.read_triangle_mesh(file)\n",
    "    V, F, Rho = mesh_processing.getDataFromMesh(mesh)\n",
    "    return(V,F,Rho)"
   ]
  },
  {
   "cell_type": "code",
   "execution_count": null,
   "id": "3f6f6c4c",
   "metadata": {},
   "outputs": [],
   "source": []
  },
  {
   "cell_type": "code",
   "execution_count": 7,
   "id": "02cdabfe",
   "metadata": {},
   "outputs": [],
   "source": [
    "file_bulldog = \"../data/preprocessed/bulldog_preprocessed.ply\"\n",
    "file_bergen = \"../data/preprocessed/Canislupus_Bergen_preprocessed.ply\"\n",
    "file_labrador = \"../data/preprocessed/Labrador_preprocessed.ply\"\n",
    "file_lund = \"../data/preprocessed/Canislupus_Lund_preprocessed.ply\"\n",
    "file_MZH = \"../data/preprocessed/Canislupus_MZH_preprocessed.ply\"\n",
    "file_oulu = \"../data/preprocessed/Canislupus_Oulu_preprocessed.ply\"\n",
    "file_nhmo = \"../data/preprocessed/NHMO_preprocessed.ply\"\n",
    "file_nmb = \"../data/preprocessed/NMB_preprocessed.ply\"\n",
    "\n",
    "mesh_bulldog = o3d.io.read_triangle_mesh(file_bulldog)\n",
    "V1, F1, Rho1 = mesh_processing.getDataFromMesh(mesh_bulldog)\n",
    "\n",
    "mesh_bergen = o3d.io.read_triangle_mesh(file_bergen)\n",
    "V2, F2, Rho2 = mesh_processing.getDataFromMesh(mesh_bergen)\n",
    "\n",
    "mesh_labrador = o3d.io.read_triangle_mesh(file_labrador)\n",
    "V3, F3, Rho3 = mesh_processing.getDataFromMesh(mesh_labrador)\n",
    "\n",
    "mesh_lund = o3d.io.read_triangle_mesh(file_lund)\n",
    "V4, F4, Rho4 = mesh_processing.getDataFromMesh(mesh_lund)\n",
    "\n",
    "mesh_MZH = o3d.io.read_triangle_mesh(file_MZH)\n",
    "V5, F5, Rho5 = mesh_processing.getDataFromMesh(mesh_MZH)\n",
    "\n",
    "mesh_oulu = o3d.io.read_triangle_mesh(file_oulu)\n",
    "V6, F6, Rho6 = mesh_processing.getDataFromMesh(mesh_oulu)\n",
    "\n",
    "mesh_nhmo = o3d.io.read_triangle_mesh(file_nhmo)\n",
    "V7, F7, Rho7 = mesh_processing.getDataFromMesh(mesh_nhmo)\n",
    "\n",
    "mesh_nmb = o3d.io.read_triangle_mesh(file_nmb)\n",
    "V8, F8, Rho8 = mesh_processing.getDataFromMesh(mesh_nmb)"
   ]
  },
  {
   "cell_type": "code",
   "execution_count": 9,
   "id": "15906207",
   "metadata": {},
   "outputs": [],
   "source": [
    "sigma = torch.tensor([10], dtype=torchdtype, device=torchdeviceId)"
   ]
  },
  {
   "cell_type": "code",
   "execution_count": 16,
   "id": "c46c21ea",
   "metadata": {},
   "outputs": [],
   "source": [
    "def frechet_mean_lddmm(V1,F1,V2,F2):\n",
    "    \n",
    "    q0 = torch.from_numpy(V1).clone().detach().to(dtype=torchdtype, device=torchdeviceId).requires_grad_(True)\n",
    "    VT = torch.from_numpy(V2).clone().detach().to(dtype=torchdtype, device=torchdeviceId)\n",
    "    FS = torch.from_numpy(F1).clone().detach().to(dtype=torch.long, device=torchdeviceId)\n",
    "    FT = torch.from_numpy(F2).clone().detach().to(dtype=torch.long, device=torchdeviceId)\n",
    "\n",
    "    x, y, z = (\n",
    "        q0[:, 0].detach().cpu().numpy(),\n",
    "        q0[:, 1].detach().cpu().numpy(),\n",
    "        q0[:, 2].detach().cpu().numpy(),\n",
    "    )\n",
    "    i, j, k = (\n",
    "        FS[:, 0].detach().cpu().numpy(),\n",
    "        FS[:, 1].detach().cpu().numpy(),\n",
    "        FS[:, 2].detach().cpu().numpy(),\n",
    "    )\n",
    "    \n",
    "    xt, yt, zt = (\n",
    "        VT[:, 0].detach().cpu().numpy(),\n",
    "        VT[:, 1].detach().cpu().numpy(),\n",
    "        VT[:, 2].detach().cpu().numpy(),\n",
    "    )\n",
    "    it, jt, kt = (\n",
    "        FT[:, 0].detach().cpu().numpy(),\n",
    "        FT[:, 1].detach().cpu().numpy(),\n",
    "        FT[:, 2].detach().cpu().numpy(),\n",
    "    )\n",
    "    \n",
    "    dataloss = lddmm_utils.lossVarifoldSurf(FS, VT, FT, lddmm_utils.GaussLinKernel(sigma=sigma))\n",
    "    Kv = lddmm_utils.GaussKernel(sigma=sigma)\n",
    "    loss = lddmm_utils.LDDMMloss(Kv, dataloss)\n",
    "    \n",
    "    p0 = torch.zeros(q0.shape, dtype=torchdtype, device=torchdeviceId, requires_grad=True)\n",
    "    q = q0.clone()\n",
    "    optimizer = torch.optim.LBFGS([p0], max_eval=1, max_iter=1)\n",
    "    \n",
    "    def closure():\n",
    "        optimizer.zero_grad()\n",
    "        L = loss(p0, q0)\n",
    "        print(\"loss from target\", L.detach().cpu().numpy())\n",
    "        #print(\"loss from source\", loss(q,q0).detach().cpu().numpy())\n",
    "        L.backward()\n",
    "        return L\n",
    "\n",
    "    losses = []\n",
    "    for i in range(10):\n",
    "        print(\"it \", i, \": \", end=\"\")\n",
    "        optimizer.step(closure)\n",
    "        \n",
    "    nt = 10\n",
    "    listpq = lddmm_utils.Shooting(p0, q0, Kv)\n",
    "    \n",
    "    VTnp, FTnp = VT.detach().cpu().numpy(), FT.detach().cpu().numpy()\n",
    "    q0np, FSnp = q0.detach().cpu().numpy(), FS.detach().cpu().numpy()\n",
    "    \n",
    "    dist_target, dist_source = [], []\n",
    "\n",
    "    for t in range(1,10):\n",
    "\n",
    "        qnp = listpq[t][1].detach().cpu().numpy()\n",
    "\n",
    "        V_approx = np.array([qnp[:,0], qnp[:,1], qnp[:,2]]).T\n",
    "        F_approx = np.array([FSnp[:,0], FSnp[:,1], FSnp[:,2]]).T\n",
    "    \n",
    "        V_test = torch.tensor(V_approx).detach().to(dtype=torchdtype, device=torchdeviceId)\n",
    "        F_test = torch.tensor(F_approx).detach().to(dtype=torch.long, device=torchdeviceId)\n",
    "    \n",
    "        dist_target.append(lddmm_utils.lossVarifoldSurf(F_test, VT, FT, lddmm_utils.GaussLinKernel(sigma=sigma))(V_test).item())\n",
    "        dist_source.append(lddmm_utils.lossVarifoldSurf(F_test, q0, FS, lddmm_utils.GaussLinKernel(sigma=sigma))(V_test).item())\n",
    "    \n",
    "    i = np.where(np.array(dist_source) - np.array(dist_target)>0)[0][0]    \n",
    "    qnp = listpq[i][1].detach().cpu().numpy()\n",
    "\n",
    "    V_mean = np.array([qnp[:,0], qnp[:,1], qnp[:,2]]).T\n",
    "    F_mean = np.array([FSnp[:,0], FSnp[:,1], FSnp[:,2]]).T\n",
    "    \n",
    "    return(V_mean, F_mean)"
   ]
  },
  {
   "cell_type": "code",
   "execution_count": 17,
   "id": "59dffed9",
   "metadata": {},
   "outputs": [],
   "source": [
    "def frechet_mean_lddmm_tot(file):\n",
    "    \n",
    "    list_data = []\n",
    "    for file in data_paths:\n",
    "        list_data.append(get_data(file)[:2])\n",
    "        \n",
    "    def FM(list_data):\n",
    "        \n",
    "        N = len(list_data)\n",
    "    \n",
    "        if N==1:\n",
    "            return list_data[-1]\n",
    "        \n",
    "        fm = frechet_mean_lddmm(np.array(list_data[0][0]), np.array(list_data[0][1]), \n",
    "                           np.array(list_data[1][0]), np.array(list_data[1][1]))\n",
    "        \n",
    "        l = [fm[0],fm[1]]\n",
    "        return FM(2*l + list_data[2:])\n",
    "    \n",
    "    return(FM(list_data))"
   ]
  },
  {
   "cell_type": "code",
   "execution_count": null,
   "id": "4c53a8d4",
   "metadata": {},
   "outputs": [],
   "source": []
  },
  {
   "cell_type": "code",
   "execution_count": 18,
   "id": "2864a578",
   "metadata": {},
   "outputs": [
    {
     "name": "stdout",
     "output_type": "stream",
     "text": [
      "it  0 : loss from target 82469710.0\n",
      "it  1 : loss from target 82422744.0\n",
      "it  2 : loss from target 94195250.0\n",
      "it  3 : loss from target 60428480.0\n",
      "it  4 : loss from target 57582400.0\n",
      "it  5 : loss from target 50819584.0\n",
      "it  6 : loss from target 51640330.0\n",
      "it  7 : loss from target 39717616.0\n",
      "it  8 : loss from target 36525400.0\n",
      "it  9 : loss from target 32754304.0\n"
     ]
    }
   ],
   "source": [
    "V_mean, F_mean = frechet_mean_lddmm(V1,F1,V2,F2)"
   ]
  },
  {
   "cell_type": "code",
   "execution_count": null,
   "id": "c0334dd4",
   "metadata": {},
   "outputs": [],
   "source": []
  },
  {
   "cell_type": "code",
   "execution_count": null,
   "id": "19b11179",
   "metadata": {},
   "outputs": [],
   "source": [
    "mesh_processing.export_mesh(V_mean, F_mean, \"doc/results/result_mean.ply\")"
   ]
  },
  {
   "cell_type": "code",
   "execution_count": null,
   "id": "5e019d07",
   "metadata": {},
   "outputs": [],
   "source": []
  },
  {
   "cell_type": "code",
   "execution_count": null,
   "id": "aa65af87",
   "metadata": {},
   "outputs": [],
   "source": []
  },
  {
   "cell_type": "code",
   "execution_count": null,
   "id": "8e5a3f69",
   "metadata": {},
   "outputs": [],
   "source": []
  },
  {
   "cell_type": "code",
   "execution_count": null,
   "id": "1d48613b",
   "metadata": {},
   "outputs": [],
   "source": []
  },
  {
   "cell_type": "code",
   "execution_count": null,
   "id": "8712c4dc",
   "metadata": {},
   "outputs": [],
   "source": []
  },
  {
   "cell_type": "code",
   "execution_count": null,
   "id": "1d78699b",
   "metadata": {},
   "outputs": [],
   "source": []
  },
  {
   "cell_type": "code",
   "execution_count": null,
   "id": "500e9dfd",
   "metadata": {},
   "outputs": [],
   "source": []
  },
  {
   "cell_type": "code",
   "execution_count": null,
   "id": "b52b6e7c",
   "metadata": {},
   "outputs": [],
   "source": []
  }
 ],
 "metadata": {
  "kernelspec": {
   "display_name": "Python 3 (ipykernel)",
   "language": "python",
   "name": "python3"
  },
  "language_info": {
   "codemirror_mode": {
    "name": "ipython",
    "version": 3
   },
   "file_extension": ".py",
   "mimetype": "text/x-python",
   "name": "python",
   "nbconvert_exporter": "python",
   "pygments_lexer": "ipython3",
   "version": "3.8.10"
  }
 },
 "nbformat": 4,
 "nbformat_minor": 5
}
