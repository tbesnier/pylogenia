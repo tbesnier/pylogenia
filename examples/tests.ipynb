{
 "cells": [
  {
   "cell_type": "code",
   "execution_count": 1,
   "id": "e8a824be",
   "metadata": {},
   "outputs": [
    {
     "name": "stdout",
     "output_type": "stream",
     "text": [
      "Jupyter environment detected. Enabling Open3D WebVisualizer.\n",
      "[Open3D INFO] WebRTC GUI backend enabled.\n",
      "[Open3D INFO] WebRTCWindowSystem: HTTP handshake server disabled.\n"
     ]
    }
   ],
   "source": [
    "import sys\n",
    "import torch\n",
    "import open3d as o3d\n",
    "import os\n",
    "import time\n",
    "import numpy as np\n",
    "\n",
    "sys.path.insert(0,\"../\")\n",
    "\n",
    "from utils import lddmm_utils, mesh_processing, viz"
   ]
  },
  {
   "cell_type": "code",
   "execution_count": 2,
   "id": "657b9a83",
   "metadata": {},
   "outputs": [],
   "source": [
    "# torch type and device\n",
    "use_cuda = torch.cuda.is_available()\n",
    "torchdeviceId = torch.device(\"cuda:0\") if use_cuda else \"cpu\"\n",
    "torchdtype = torch.float32\n",
    "\n",
    "# PyKeOps counterpart\n",
    "KeOpsdeviceId = torchdeviceId.index  # id of Gpu device (in case Gpu is  used)\n",
    "KeOpsdtype = torchdtype.__str__().split(\".\")[1]  # 'float32'"
   ]
  },
  {
   "cell_type": "code",
   "execution_count": 3,
   "id": "b655f83a",
   "metadata": {},
   "outputs": [],
   "source": [
    "file_ref = \"../data/preprocessed/bulldog_preprocessed.ply\"\n",
    "file_target = \"../data/preprocessed/Labrador_preprocessed.ply\"\n",
    "\n",
    "mesh = o3d.io.read_triangle_mesh(file_ref)\n",
    "VS, FS, RhoS = mesh_processing.getDataFromMesh(mesh)\n",
    "VS, FS = torch.from_numpy(VS), torch.from_numpy(FS)\n",
    "\n",
    "mesh = o3d.io.read_triangle_mesh(file_target)\n",
    "VT, FT, RhoT = mesh_processing.getDataFromMesh(mesh)\n",
    "VT, FT = torch.from_numpy(VT), torch.from_numpy(FT)"
   ]
  },
  {
   "cell_type": "code",
   "execution_count": 4,
   "id": "e100f8ba",
   "metadata": {},
   "outputs": [],
   "source": [
    "q0 = VS.clone().detach().to(dtype=torchdtype, device=torchdeviceId).requires_grad_(True)\n",
    "VT = VT.clone().detach().to(dtype=torchdtype, device=torchdeviceId)\n",
    "FS = FS.clone().detach().to(dtype=torch.long, device=torchdeviceId)\n",
    "FT = FT.clone().detach().to(dtype=torch.long, device=torchdeviceId)\n",
    "sigma = torch.tensor([10], dtype=torchdtype, device=torchdeviceId)\n",
    "\n",
    "x, y, z = (\n",
    "    q0[:, 0].detach().cpu().numpy(),\n",
    "    q0[:, 1].detach().cpu().numpy(),\n",
    "    q0[:, 2].detach().cpu().numpy(),\n",
    ")\n",
    "i, j, k = (\n",
    "    FS[:, 0].detach().cpu().numpy(),\n",
    "    FS[:, 1].detach().cpu().numpy(),\n",
    "    FS[:, 2].detach().cpu().numpy(),\n",
    ")\n",
    "\n",
    "xt, yt, zt = (\n",
    "    VT[:, 0].detach().cpu().numpy(),\n",
    "    VT[:, 1].detach().cpu().numpy(),\n",
    "    VT[:, 2].detach().cpu().numpy(),\n",
    ")\n",
    "it, jt, kt = (\n",
    "    FT[:, 0].detach().cpu().numpy(),\n",
    "    FT[:, 1].detach().cpu().numpy(),\n",
    "    FT[:, 2].detach().cpu().numpy(),\n",
    ")"
   ]
  },
  {
   "cell_type": "code",
   "execution_count": 5,
   "id": "3d8f3918",
   "metadata": {},
   "outputs": [],
   "source": [
    "save_folder, name = \"doc/results/\", \"data.html\"\n",
    "os.makedirs(save_folder, exist_ok=True)\n",
    "\n",
    "viz.show_meshes(VS, FS, VT, FT, save_folder, name, auto_open=False)"
   ]
  },
  {
   "cell_type": "code",
   "execution_count": 6,
   "id": "32ed7fdf",
   "metadata": {},
   "outputs": [],
   "source": [
    "dataloss = lddmm_utils.lossVarifoldSurf(FS, VT, FT, lddmm_utils.GaussLinKernel(sigma=sigma))\n",
    "Kv = lddmm_utils.GaussKernel(sigma=sigma)\n",
    "loss = lddmm_utils.LDDMMloss(Kv, dataloss)"
   ]
  },
  {
   "cell_type": "code",
   "execution_count": 7,
   "id": "48a62460",
   "metadata": {},
   "outputs": [
    {
     "name": "stdout",
     "output_type": "stream",
     "text": [
      "performing optimization...\n",
      "it  0 : loss 73616610.0\n",
      "loss 73573944.0\n",
      "loss 192050910.0\n",
      "loss 53562904.0\n",
      "loss 51267670.0\n",
      "loss 45881800.0\n",
      "loss 38717550.0\n",
      "loss 34596080.0\n",
      "loss 31449136.0\n",
      "loss 28581280.0\n",
      "it  1 : loss 28581280.0\n",
      "loss 26181600.0\n",
      "loss 23384480.0\n",
      "loss 22127104.0\n",
      "loss 20725392.0\n",
      "loss 19992736.0\n",
      "loss 18951952.0\n",
      "loss 18020176.0\n",
      "loss 16865120.0\n",
      "loss 16127616.0\n",
      "Optimization (L-BFGS) time:  39.77  seconds\n"
     ]
    }
   ],
   "source": [
    "p0 = torch.zeros(q0.shape, dtype=torchdtype, device=torchdeviceId, requires_grad=True)\n",
    "\n",
    "optimizer = torch.optim.LBFGS([p0], max_eval=10, max_iter=10)\n",
    "print(\"performing optimization...\")\n",
    "start = time.time()\n",
    "\n",
    "def closure():\n",
    "    optimizer.zero_grad()\n",
    "    L = loss(p0, q0)\n",
    "    print(\"loss\", L.detach().cpu().numpy())\n",
    "    L.backward()\n",
    "    return L\n",
    "\n",
    "for i in range(2):\n",
    "    print(\"it \", i, \": \", end=\"\")\n",
    "    optimizer.step(closure)\n",
    "\n",
    "print(\"Optimization (L-BFGS) time: \", round(time.time() - start, 2), \" seconds\")"
   ]
  },
  {
   "cell_type": "code",
   "execution_count": 8,
   "id": "8fedb98e",
   "metadata": {},
   "outputs": [],
   "source": [
    "nt = 10\n",
    "listpq = lddmm_utils.Shooting(p0, q0, Kv, nt=nt)"
   ]
  },
  {
   "cell_type": "code",
   "execution_count": 9,
   "id": "036dc519",
   "metadata": {},
   "outputs": [],
   "source": [
    "VTnp, FTnp = VT.detach().cpu().numpy(), FT.detach().cpu().numpy()\n",
    "q0np, FSnp = q0.detach().cpu().numpy(), FS.detach().cpu().numpy()\n",
    "\n",
    "viz.show_registration(VTnp, FTnp, FSnp, listpq, save_folder)"
   ]
  },
  {
   "cell_type": "code",
   "execution_count": 10,
   "id": "cb904203",
   "metadata": {},
   "outputs": [
    {
     "ename": "NameError",
     "evalue": "name 'np' is not defined",
     "output_type": "error",
     "traceback": [
      "\u001b[0;31m---------------------------------------------------------------------------\u001b[0m",
      "\u001b[0;31mNameError\u001b[0m                                 Traceback (most recent call last)",
      "Input \u001b[0;32mIn [10]\u001b[0m, in \u001b[0;36m<cell line: 2>\u001b[0;34m()\u001b[0m\n\u001b[1;32m      1\u001b[0m end \u001b[38;5;241m=\u001b[39m listpq[\u001b[38;5;241m-\u001b[39m\u001b[38;5;241m1\u001b[39m][\u001b[38;5;241m1\u001b[39m]\u001b[38;5;241m.\u001b[39mdetach()\u001b[38;5;241m.\u001b[39mcpu()\u001b[38;5;241m.\u001b[39mnumpy()\n\u001b[0;32m----> 2\u001b[0m V_approx \u001b[38;5;241m=\u001b[39m \u001b[43mnp\u001b[49m\u001b[38;5;241m.\u001b[39marray([end[:,\u001b[38;5;241m0\u001b[39m], end[:,\u001b[38;5;241m1\u001b[39m], end[:,\u001b[38;5;241m2\u001b[39m]])\u001b[38;5;241m.\u001b[39mT\n\u001b[1;32m      3\u001b[0m F_approx \u001b[38;5;241m=\u001b[39m np\u001b[38;5;241m.\u001b[39marray([FSnp[:,\u001b[38;5;241m0\u001b[39m], FSnp[:,\u001b[38;5;241m1\u001b[39m], FSnp[:,\u001b[38;5;241m2\u001b[39m]])\u001b[38;5;241m.\u001b[39mT\n\u001b[1;32m      5\u001b[0m export_mesh(V_approx, F_approx, \u001b[38;5;124m\"\u001b[39m\u001b[38;5;124mdoc/results/objects/result.ply\u001b[39m\u001b[38;5;124m\"\u001b[39m)\n",
      "\u001b[0;31mNameError\u001b[0m: name 'np' is not defined"
     ]
    }
   ],
   "source": [
    "end = listpq[-1][1].detach().cpu().numpy()\n",
    "V_approx = np.array([end[:,0], end[:,1], end[:,2]]).T\n",
    "F_approx = np.array([FSnp[:,0], FSnp[:,1], FSnp[:,2]]).T\n",
    "\n",
    "mesh_processing.export_mesh(V_approx, F_approx, \"doc/results/objects/result.ply\")"
   ]
  }
 ],
 "metadata": {
  "kernelspec": {
   "display_name": "Python 3 (ipykernel)",
   "language": "python",
   "name": "python3"
  },
  "language_info": {
   "codemirror_mode": {
    "name": "ipython",
    "version": 3
   },
   "file_extension": ".py",
   "mimetype": "text/x-python",
   "name": "python",
   "nbconvert_exporter": "python",
   "pygments_lexer": "ipython3",
   "version": "3.8.10"
  }
 },
 "nbformat": 4,
 "nbformat_minor": 5
}
